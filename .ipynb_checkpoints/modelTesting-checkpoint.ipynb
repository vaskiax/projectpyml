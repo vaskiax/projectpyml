{
 "cells": [
  {
   "cell_type": "code",
   "execution_count": null,
   "metadata": {},
   "outputs": [],
   "source": [
    "library(readr)\n",
    "data <- read_csv(\"data.csv\")\n",
    "library(caret)\n",
    "library(randomForest)\n",
    "\n",
    "data$X23 <- NULL\n",
    "data$ORIGIN_AIRPORT_SEQ_ID <- NULL\n",
    "data$DEP_AIRPORT_SEQ_ID <- NULL\n",
    "data$DEST_AIRPORT_SEQ_ID <- NULL\n",
    "\n",
    "airports <-c ('ATL','LAX','ORD','DWF','JFK','SFO','CLT','LAS','PHX')\n",
    "data <- subset(data, DEST %in% airports & ORIGIN %in% airports)\n",
    "onTimeData <- data[!is.na(data$DEP_DEL15) & data$DEP_DEL15!=\"\" & !is.na(data$ARR_DEL15) & data$ARR_DEL15!=\"\",]\n",
    "rm(data)\n",
    "\n",
    "onTimeData$ARR_DEL15 <- as.factor(onTimeData$ARR_DEL15)\n",
    "onTimeData$DEP_DEL15 <- as.factor(onTimeData$DEP_DEL15)\n",
    "onTimeData$DEST <- as.factor(onTimeData$DEST)\n",
    "onTimeData$ORIGIN <- as.factor(onTimeData$ORIGIN)\n",
    "onTimeData$ORIGIN_AIRPORT_ID <- as.factor(onTimeData$ORIGIN_AIRPORT_ID)\n",
    "onTimeData$DEST_AIRPORT_ID <- as.factor(onTimeData$DEST_AIRPORT_ID)\n",
    "onTimeData$DAY_OF_WEEK <- as.factor(onTimeData$DAY_OF_WEEK)\n",
    "onTimeData$DEP_TIME_BLK <- as.factor(onTimeData$DEP_TIME_BLK)\n",
    "onTimeData$OP_UNIQUE_CARRIER <- as.factor(onTimeData$OP_UNIQUE_CARRIER)\n",
    "\n",
    "set.seed(122515)\n",
    "featureCols <- c(\"ARR_DEL15\", \"DAY_OF_WEEK\", \"OP_UNIQUE_CARRIER\", \"DEST\",\"ORIGIN\",\"DEP_TIME_BLK\")\n",
    "onTimeDatafiltered <- onTimeData[,featureCols]\n",
    "trainingDataset <- createDataPartition(onTimeDatafiltered$ARR_DEL15, p=0.70, list = FALSE)\n",
    "rm(onTimeData)\n",
    "trainingData <- onTimeDatafiltered[,trainingDataset]\n",
    "trainingData <- onTimeDatafiltered[trainingDataset,]\n",
    "testingData <- onTimeDatafiltered[-trainingDataset,]\n",
    "rm(trainingDataset)\n",
    "\n",
    "LogRegModel <- train(ARR_DEL15 ~ ., data = trainingData, method = \"glm\", family = \"binomial\")\n",
    "ModelPrediction <- predict(LogRegModel, testingData)\n",
    "ConfuMatrix <- confusionMatrix(ModelPrediction, testingData$ARR_DEL15)\n",
    "DeciTree <- randomForest(trainingData[-1], trainingData$ARR_DEL15, proximity = TRUE, importance = TRUE)\n",
    "savehistory(\"~/Documentos/Universidad/programing/ML-TRAINING/projectpyml/n.Rhistory\")\n"
   ]
  }
 ],
 "metadata": {
  "kernelspec": {
   "display_name": "R",
   "language": "R",
   "name": "ir"
  }
 },
 "nbformat": 4,
 "nbformat_minor": 2
}
